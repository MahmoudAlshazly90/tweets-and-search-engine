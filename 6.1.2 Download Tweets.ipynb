{
 "cells": [
  {
   "cell_type": "code",
   "execution_count": 4,
   "metadata": {},
   "outputs": [],
   "source": [
    "import tweepy\n",
    "import csv\n",
    "import pandas as pd\n",
    "import sys\n",
    "from tweepy.auth import OAuthHandler\n"
   ]
  },
  {
   "cell_type": "code",
   "execution_count": 5,
   "metadata": {},
   "outputs": [],
   "source": [
    "consumer_key = \"dZ6mNIjirh08odtAnLZqQg0m3\"\n",
    "consumer_secret = \"p6KfZ8tcERd4dapufkXYDYZZ2Eu8m6uI1dsoj2uNeLMxMcOcP6\"\n",
    "access_key = \"1431924168795230208-ssQwNVM9m74IgrJyL6vRxq4xQwwWzk\"\n",
    "access_secret = \"rkSA1CaRQsTswAT38zkH0PGl3yQlJnW6ZrtUE8KjN4UmK\""
   ]
  },
  {
   "cell_type": "code",
   "execution_count": 6,
   "metadata": {},
   "outputs": [
    {
     "ename": "NameError",
     "evalue": "name 'access_token' is not defined",
     "output_type": "error",
     "traceback": [
      "\u001b[1;31m---------------------------------------------------------------------------\u001b[0m",
      "\u001b[1;31mNameError\u001b[0m                                 Traceback (most recent call last)",
      "Cell \u001b[1;32mIn[6], line 2\u001b[0m\n\u001b[0;32m      1\u001b[0m auth \u001b[38;5;241m=\u001b[39m tweepy\u001b[38;5;241m.\u001b[39mOAuthHandler(consumer_key, consumer_secret)\n\u001b[1;32m----> 2\u001b[0m auth\u001b[38;5;241m.\u001b[39mset_access_token(access_token, access_token_secret)\n\u001b[0;32m      3\u001b[0m api \u001b[38;5;241m=\u001b[39m tweepy\u001b[38;5;241m.\u001b[39mAPI(auth,wait_on_rate_limit\u001b[38;5;241m=\u001b[39m\u001b[38;5;28;01mTrue\u001b[39;00m,wait_on_rate_limit_notify\u001b[38;5;241m=\u001b[39m\u001b[38;5;28;01mTrue\u001b[39;00m)\n",
      "\u001b[1;31mNameError\u001b[0m: name 'access_token' is not defined"
     ]
    }
   ],
   "source": [
    "auth = tweepy.OAuthHandler(consumer_key, consumer_secret)\n",
    "auth.set_access_token(access_token, access_token_secret)\n",
    "api = tweepy.API(auth,wait_on_rate_limit=True,wait_on_rate_limit_notify=True)"
   ]
  },
  {
   "cell_type": "code",
   "execution_count": 7,
   "metadata": {},
   "outputs": [],
   "source": [
    "HashValue = \"#euro2020\"\n",
    "StartDate = \"2021-01-25\" #yyyy-mm-dd"
   ]
  },
  {
   "cell_type": "code",
   "execution_count": 8,
   "metadata": {},
   "outputs": [],
   "source": [
    "csvFile = open(HashValue+'.csv', 'a')\n",
    "csvWriter = csv.writer(csvFile)"
   ]
  },
  {
   "cell_type": "code",
   "execution_count": 9,
   "metadata": {},
   "outputs": [
    {
     "ename": "NameError",
     "evalue": "name 'api' is not defined",
     "output_type": "error",
     "traceback": [
      "\u001b[1;31m---------------------------------------------------------------------------\u001b[0m",
      "\u001b[1;31mNameError\u001b[0m                                 Traceback (most recent call last)",
      "Cell \u001b[1;32mIn[9], line 1\u001b[0m\n\u001b[1;32m----> 1\u001b[0m \u001b[38;5;28;01mfor\u001b[39;00m tweet \u001b[38;5;129;01min\u001b[39;00m tweepy\u001b[38;5;241m.\u001b[39mCursor(api\u001b[38;5;241m.\u001b[39msearch,\n\u001b[0;32m      2\u001b[0m                            q\u001b[38;5;241m=\u001b[39mHashValue,\n\u001b[0;32m      3\u001b[0m                            count\u001b[38;5;241m=\u001b[39m\u001b[38;5;241m20\u001b[39m,\n\u001b[0;32m      4\u001b[0m                            lang\u001b[38;5;241m=\u001b[39m\u001b[38;5;124m\"\u001b[39m\u001b[38;5;124men\u001b[39m\u001b[38;5;124m\"\u001b[39m,\n\u001b[0;32m      5\u001b[0m                            since\u001b[38;5;241m=\u001b[39mStartDate,\n\u001b[0;32m      6\u001b[0m                            tweet_mode\u001b[38;5;241m=\u001b[39m\u001b[38;5;124m'\u001b[39m\u001b[38;5;124mextended\u001b[39m\u001b[38;5;124m'\u001b[39m)\u001b[38;5;241m.\u001b[39mitems():\n\u001b[0;32m      8\u001b[0m     \u001b[38;5;28mprint\u001b[39m (tweet\u001b[38;5;241m.\u001b[39mcreated_at, tweet\u001b[38;5;241m.\u001b[39mfull_text)\n\u001b[0;32m      9\u001b[0m     csvWriter\u001b[38;5;241m.\u001b[39mwriterow([tweet\u001b[38;5;241m.\u001b[39mcreated_at, tweet\u001b[38;5;241m.\u001b[39mfull_text\u001b[38;5;241m.\u001b[39mencode(\u001b[38;5;124m'\u001b[39m\u001b[38;5;124mutf-8\u001b[39m\u001b[38;5;124m'\u001b[39m)])\n",
      "\u001b[1;31mNameError\u001b[0m: name 'api' is not defined"
     ]
    }
   ],
   "source": [
    "for tweet in tweepy.Cursor(api.search,\n",
    "                           q=HashValue,\n",
    "                           count=20,\n",
    "                           lang=\"en\",\n",
    "                           since=StartDate,\n",
    "                           tweet_mode='extended').items():\n",
    "    \n",
    "    print (tweet.created_at, tweet.full_text)\n",
    "    csvWriter.writerow([tweet.created_at, tweet.full_text.encode('utf-8')])\n",
    "\n",
    "print (\"Scraping finished and saved to \"+HashValue+\".csv\")"
   ]
  },
  {
   "cell_type": "code",
   "execution_count": null,
   "metadata": {},
   "outputs": [],
   "source": []
  },
  {
   "cell_type": "code",
   "execution_count": null,
   "metadata": {},
   "outputs": [],
   "source": []
  },
  {
   "cell_type": "code",
   "execution_count": null,
   "metadata": {},
   "outputs": [],
   "source": []
  }
 ],
 "metadata": {
  "kernelspec": {
   "display_name": "Python 3 (ipykernel)",
   "language": "python",
   "name": "python3"
  },
  "language_info": {
   "codemirror_mode": {
    "name": "ipython",
    "version": 3
   },
   "file_extension": ".py",
   "mimetype": "text/x-python",
   "name": "python",
   "nbconvert_exporter": "python",
   "pygments_lexer": "ipython3",
   "version": "3.11.5"
  }
 },
 "nbformat": 4,
 "nbformat_minor": 4
}
